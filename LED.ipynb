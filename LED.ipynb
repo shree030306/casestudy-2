{
  "nbformat": 4,
  "nbformat_minor": 0,
  "metadata": {
    "colab": {
      "provenance": []
    },
    "kernelspec": {
      "name": "python3",
      "display_name": "Python 3"
    },
    "language_info": {
      "name": "python"
    }
  },
  "cells": [
    {
      "cell_type": "code",
      "source": [
        "import time\n",
        "\n",
        "# Define the initial parameters\n",
        "MIN_LEVEL = 0\n",
        "MAX_LEVEL = 100\n",
        "STEP = 5  # Step size to increase or decrease brightness\n",
        "\n",
        "# Start with a default brightness level\n",
        "current_brightness_level = 50  # Default starting brightness level\n",
        "\n",
        "# Function to print the current brightness level as a visual representation\n",
        "def display_brightness_bar(brightness_level):\n",
        "    bar = \"|\" * (brightness_level // 2)  # Adjust bar length based on brightness level\n",
        "    spaces = \" \" * (50 - len(bar))  # Adjust for total width of 50 characters\n",
        "    print(f\"[{bar}{spaces}] {brightness_level}%\")\n",
        "\n",
        "# Function to display instructions\n",
        "def show_instructions():\n",
        "    print(\"\\nInstructions:\")\n",
        "    print(\"1. Type 'increase' to increase brightness.\")\n",
        "    print(\"2. Type 'decrease' to decrease brightness.\")\n",
        "    print(\"3. Type 'exit' to exit the program.\")\n",
        "    print(\"4. Brightness will be adjusted in steps of 5%.\")\n",
        "    print(\"5. The range of brightness is from 0% to 100%.\")\n",
        "    print(\"6. Type 'help' for instructions.\\n\")\n",
        "\n",
        "# Main program loop\n",
        "while True:\n",
        "    # Print the current brightness bar\n",
        "    display_brightness_bar(current_brightness_level)\n",
        "\n",
        "    # Ask for user input (command)\n",
        "    show_instructions()\n",
        "    user_command = input(\"Enter a command: \").strip().lower()\n",
        "\n",
        "    if user_command == \"increase\":\n",
        "        if current_brightness_level + STEP <= MAX_LEVEL:\n",
        "            current_brightness_level += STEP\n",
        "            print(f\"Brightness increased by {STEP}%\")\n",
        "        else:\n",
        "            print(f\"Cannot increase brightness above {MAX_LEVEL}%\")\n",
        "\n",
        "    elif user_command == \"decrease\":\n",
        "        if current_brightness_level - STEP >= MIN_LEVEL:\n",
        "            current_brightness_level -= STEP\n",
        "            print(f\"Brightness decreased by {STEP}%\")\n",
        "        else:\n",
        "            print(f\"Cannot decrease brightness below {MIN_LEVEL}%\")\n",
        "\n",
        "    elif user_command == \"exit\":\n",
        "        print(\"Exiting the program...\")\n",
        "        break  # Exit the loop\n",
        "\n",
        "    elif user_command == \"help\":\n",
        "        show_instructions()\n",
        "\n",
        "    else:\n",
        "        print(\"Invalid command. Please enter 'increase', 'decrease', or 'exit'.\")\n",
        "\n",
        "    # Wait a moment before prompting again\n",
        "    time.sleep(1)"
      ],
      "metadata": {
        "colab": {
          "base_uri": "https://localhost:8080/",
          "height": 0
        },
        "id": "f64wdpe-UJks",
        "outputId": "9f7537be-4fb5-46d8-de22-2872ec2a119b"
      },
      "execution_count": null,
      "outputs": [
        {
          "output_type": "stream",
          "name": "stdout",
          "text": [
            "[|||||||||||||||||||||||||                         ] 50%\n",
            "\n",
            "Instructions:\n",
            "1. Type 'increase' to increase brightness.\n",
            "2. Type 'decrease' to decrease brightness.\n",
            "3. Type 'exit' to exit the program.\n",
            "4. Brightness will be adjusted in steps of 5%.\n",
            "5. The range of brightness is from 0% to 100%.\n",
            "6. Type 'help' for instructions.\n",
            "\n",
            "Enter a command: decrease\n",
            "Brightness decreased by 5%\n",
            "[||||||||||||||||||||||                            ] 45%\n",
            "\n",
            "Instructions:\n",
            "1. Type 'increase' to increase brightness.\n",
            "2. Type 'decrease' to decrease brightness.\n",
            "3. Type 'exit' to exit the program.\n",
            "4. Brightness will be adjusted in steps of 5%.\n",
            "5. The range of brightness is from 0% to 100%.\n",
            "6. Type 'help' for instructions.\n",
            "\n"
          ]
        }
      ]
    }
  ]
}